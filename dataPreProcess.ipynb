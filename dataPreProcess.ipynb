{
 "cells": [
  {
   "cell_type": "markdown",
   "metadata": {},
   "source": [
    "THIS IS FOR KingBase DATA!!! Custom..."
   ]
  },
  {
   "cell_type": "code",
   "execution_count": 1,
   "metadata": {},
   "outputs": [
    {
     "name": "stdout",
     "output_type": "stream",
     "text": [
      "269034\n",
      "181119\n",
      "41320\n",
      "213166\n",
      "276670\n",
      "189074\n",
      "134376\n",
      "119594\n",
      "96925\n",
      "162367\n",
      "141165\n",
      "57906\n",
      "106358\n",
      "62682\n",
      "133799\n"
     ]
    }
   ],
   "source": [
    "import os\n",
    "import sys\n",
    "\n",
    "\n",
    "files = os.listdir('data/dataPre/KingBase2019-pgn')\n",
    "cleanGames = []\n",
    "# f = files[0]\n",
    "for f in files:\n",
    "    fText = open('data/dataPre/KingBase2019-pgn/' + f, 'r').read()\n",
    "    fText = fText.splitlines()\n",
    "    cleaned = []\n",
    "    for line in fText:\n",
    "        if line=='':\n",
    "            cleaned.append(line)\n",
    "        elif line[0] != '[':\n",
    "            cleaned.append(line)\n",
    "    cleanText = '\\n'.join(cleaned)\n",
    "    # print(cleanText[:1000])\n",
    "    cleanText = '\\n\\n'+cleanText+'\\n\\n'\n",
    "    games = cleanText.split('\\n\\n\\n')\n",
    "    games.pop()\n",
    "    games.pop(0)\n",
    "    print(len(games))\n",
    "\n",
    "    for game in games:\n",
    "        # print(game)\n",
    "        n = game.replace('\\n', ' ')\n",
    "        n = n.replace('  ', ' ')\n",
    "\n",
    "\n",
    "        # n = n.replace('  ', ' ')\n",
    "        # n = game.replace(' \\n ', ' ')\n",
    "        # n = n.replace('\\n ', ' ')\n",
    "        # n = n.replace(' \\n', ' ')\n",
    "        \n",
    "        n = n.replace('.', '. ')\n",
    "        n = n.replace(' .', '.')\n",
    "        n = n.replace('  ', ' ')\n",
    "        cleanGames.append(n)\n",
    "\n",
    "\n",
    "    \n",
    "cleanGameText = '\\n'.join(cleanGames)\n",
    "#output to file\n",
    "f = open('data/ELO_2000.txt', 'w')\n",
    "f.write(cleanGameText)\n",
    "f.close()\n",
    "\n"
   ]
  },
  {
   "cell_type": "code",
   "execution_count": 67,
   "metadata": {},
   "outputs": [
    {
     "data": {
      "text/plain": [
       "2185555"
      ]
     },
     "execution_count": 67,
     "metadata": {},
     "output_type": "execute_result"
    }
   ],
   "source": [
    "len(cleanGames)"
   ]
  },
  {
   "cell_type": "code",
   "execution_count": 1,
   "metadata": {},
   "outputs": [
    {
     "name": "stdout",
     "output_type": "stream",
     "text": [
      "2185555\n"
     ]
    }
   ],
   "source": [
    "import os\n",
    "import sys\n",
    "\n",
    "games = open('data/ELO_2000.txt', 'r').read()\n",
    "games = games.splitlines()\n",
    "print(len(games))\n",
    "games = games[:200000]\n"
   ]
  },
  {
   "cell_type": "code",
   "execution_count": 9,
   "metadata": {},
   "outputs": [
    {
     "data": {
      "text/plain": [
       "20"
      ]
     },
     "execution_count": 9,
     "metadata": {},
     "output_type": "execute_result"
    }
   ],
   "source": [
    "import multiprocessing\n",
    "multiprocessing.cpu_count()"
   ]
  },
  {
   "cell_type": "markdown",
   "metadata": {},
   "source": [
    "Use this code to convert moves to UCI... MULTIPROCESS BELLOW"
   ]
  },
  {
   "cell_type": "code",
   "execution_count": 2,
   "metadata": {},
   "outputs": [
    {
     "name": "stderr",
     "output_type": "stream",
     "text": [
      "100%|█████████▉| 199946/200000 [03:16<00:00, 1108.18it/s]"
     ]
    },
    {
     "name": "stderr",
     "output_type": "stream",
     "text": [
      "100%|██████████| 200000/200000 [03:30<00:00, 1108.18it/s]"
     ]
    }
   ],
   "source": [
    "import time\n",
    "import chess\n",
    "import chess.svg\n",
    "import jax\n",
    "# import multiprocessing\n",
    "import multiprocessing\n",
    "from multiprocessing import Pool, freeze_support, RLock\n",
    "from tqdm import tqdm\n",
    "# from utils import display_board\n",
    "newGames = []\n",
    "# g = games[100]\n",
    "# pool = Pool(processes=2)\n",
    "pbar = tqdm(total=len(games))\n",
    "def process_game(g):\n",
    "    # time.sleep(0.01)\n",
    "    pbar.update(1)\n",
    "    # print(\"New Game Compute:\", time.time())\n",
    "    board = chess.Board()\n",
    "    moves = g.split(' ')\n",
    "    newMoves = []\n",
    "    for move in moves:\n",
    "        special = False\n",
    "        if '.' in move or move == '1-0' or move == '0-1' or move == '1/2-1/2'or move == '*':\n",
    "            special = True\n",
    "        else:\n",
    "            m = board.push_san(move)\n",
    "        if special:\n",
    "            newMoves.append(move)\n",
    "        else:\n",
    "            newMoves.append(m.uci())\n",
    "    return ' '.join(newMoves)\n",
    "def workerProccess(item):\n",
    "    return process_game(item)\n",
    "# def splitGames(games, num_workers):\n",
    "#     # with multiprocessing.Pool(num_workers) as p:\n",
    "#     #     results = p.map(process_game, games)\n",
    "#     # return results\n",
    "#     jaxArr = jax.numpy.array(games, dtype=object)\n",
    "#     return jax.pmap(process_game)(jaxArr)\n",
    "if __name__ == '__main__':\n",
    "    # num_processes = multiprocessing.cpu_count()  # You can specify the number of processes you want\n",
    "\n",
    "    # # Create a Pool of processes\n",
    "    # with multiprocessing.Pool(processes=num_processes) as pool:\n",
    "    #     # Apply the function to the list using multiple processes\n",
    "    #     results = pool.map(workerProccess, games)\n",
    "\n",
    "    # # Print the results\n",
    "    # print(results)\n",
    "\n",
    "    # # Important to print these blanks\n",
    "    # print(\"\\n\" * (len(newGames) + 1))\n",
    "\n",
    "    for g in games:\n",
    "        newGames.append(process_game(g))\n",
    "\n",
    "    newGameText = '\\n'.join(newGames)\n",
    "    #output to file\n",
    "    f = open('data/ELO_2000_UCI.txt', 'w')\n",
    "    f.write(newGameText)\n",
    "    f.close()\n",
    "#     with multiprocessing.Pool(processes=4) as pool:\n",
    "#         newGames = pool.map(process_game, tqdm(games))\n",
    "    # with multiprocessing.Pool() as pool:\n",
    "    #     for result in tqdm(pool.imap_unordered(process_game, games), total=len(games)):\n",
    "    #         newGames.append(result)\n",
    "# newGames = splitGames(games, 4)\n",
    "\n",
    "\n",
    "# newGames = list(tqdm(pool.imap_unordered(process_game, games), total=len(games)))\n",
    "\n",
    "# newGames = pool.imap_unordered(process_game, games)\n",
    "# for result in pool.imap_unordered(process_game, games):\n",
    "#     newGames.append(result)\n",
    "#     pbar.update(1)\n",
    "# pool.close()\n",
    "# pool.join()\n",
    "# pbar.close()\n",
    "    "
   ]
  },
  {
   "cell_type": "code",
   "execution_count": null,
   "metadata": {},
   "outputs": [],
   "source": [
    "import chess\n",
    "import chess.svg\n",
    "\n",
    "#GAME: 113239 - PROBLEMATIC\n",
    "\n",
    "# from utils import display_board\n",
    "newGames = []\n",
    "# g = games[100]\n",
    "# games = games[:200000]\n",
    "for i,g in enumerate(games):\n",
    "    print(\"GAME:\", i)\n",
    "\n",
    "    board = chess.Board()\n",
    "    moves = g.split(' ')\n",
    "    # print(moves)\n",
    "    newMoves = []\n",
    "    for move in moves:\n",
    "        special = False\n",
    "        # print(\"TOKEN:\", move)\n",
    "        if '.' in move or move == '1-0' or move == '0-1' or move == '1/2-1/2' or move == '*':\n",
    "            special = True\n",
    "        else:\n",
    "            m = board.push_san(move)\n",
    "            # print('MOVE UCI',m.uci())\n",
    "            # print('MOVE SAN',m)\n",
    "\n",
    "            # print(board)\n",
    "            # print(board.piece_at(chess.parse_square('e2')))\n",
    "            # print('\\n')\n",
    "            # display_board(board)\n",
    "        if special:\n",
    "            newMoves.append(move)\n",
    "        else:\n",
    "            newMoves.append(m.uci())\n",
    "    newGames.append(' '.join(newMoves))\n",
    "newGameText = '\\n'.join(newGames)\n",
    "#output to file\n",
    "f = open('data/ELO_2000_UCI.txt', 'w')\n",
    "f.write(newGameText)\n",
    "f.close()\n"
   ]
  },
  {
   "cell_type": "code",
   "execution_count": 1,
   "metadata": {},
   "outputs": [
    {
     "name": "stdout",
     "output_type": "stream",
     "text": [
      "[8070, 2183, 4868, 8071, 1047, 1935, 8072, 4230, 7028, 8073, 134, 6005, 8074, 6140, 5025, 8075, 5115, 3845, 8076, 3207, 4597, 8077, 5351, 2707, 8078, 3080, 2975, 8079, 2327, 2820, 8080, 3607, 3984, 8081, 3525, 3717, 8082, 2454, 4725, 8083, 5254, 4869, 8084, 4129, 5735, 8085, 2070, 5892, 8086, 33, 929, 8087, 5110, 3859, 8088, 3191, 4646, 8089, 7524, 3556, 8090, 4240, 773, 8091, 5270, 4742, 8092, 5100, 2948, 8093, 6389, 2725, 8094, 6278, 7940, 8095, 7303, 1796, 8096, 5382, 1319, 8097, 3348, 7029, 8098, 4280, 6049, 8099, 2065, 3556, 8100, 7652, 1311, 8101, 4086, 8006, 8102, 3081, 5910, 8103, 3621, 4739, 8104, 5352, 3971, 8105, 5606, 4867, 8106, 3582, 4357, 8107, 3089, 6772, 8108, 4102, 5492, 8109, 6166, 4216, 8110, 5255, 4501, 8111, 6391, 3448, 8112, 7287, 1541, 8113, 2324, 645, 8114, 6390, 2565, 8115, 5367, 3]\n"
     ]
    }
   ],
   "source": [
    "import tokenizer\n",
    "# from tokenizer import tokenizeLine\n",
    "# tokenizer.tokenize()\n",
    "\n",
    "vocab = tokenizer.makeVocabUCI()\n",
    "games = open('data/ELO_2000_UCI.txt', 'r').read()\n",
    "games = games.splitlines()\n",
    "\n",
    "tokenizedGames = []\n",
    "\n",
    "for g in games:\n",
    "    arr = []\n",
    "    for e in g.split(' '):\n",
    "        arr.append(vocab[e])\n",
    "    tokenizedGames.append(arr)\n",
    "# arr = tokenize(games[0], vocab)\n",
    "# tokenizedGames.append(arr)\n",
    "# for g in games[:10]:\n",
    "#     tokenizedGames.append(tokenizer.tokenize(g, vocab))\n",
    "\n",
    "# print(tokenizedGames[0])\n",
    "\n",
    "# g = games[0]\n",
    "# for e in g.split(' '):\n",
    "#     print(e)\n",
    "#     print(tokenizer.tokenToIndex(e, vocab))"
   ]
  },
  {
   "cell_type": "code",
   "execution_count": 17,
   "metadata": {},
   "outputs": [
    {
     "data": {
      "text/plain": [
       "'1. c2c4 e7e5 2. b1c3 b8c6 3. e2e3 g8f6 4. a2a3 f8e7 5. g1f3 e8g8 6. f1e2 d7d6 7. d2d4 e5d4 8. f3d4 c6d4 9. d1d4 c8e6 10. c3d5 c7c5 11. d5e7 d8e7 12. d4h4 d6d5 13. c4d5 e6d5 14. f2f3 e7e6 15. e1g1 f6d7 16. c1d2 f7f5 17. a1c1 a8c8 18. f1e1 d7e5 19. d2c3 e5g6 20. h4f2 d5b3 21. e2f1 a7a6 22. f2g3 e6e7 23. f1d3 c8c6 24. g3f2 c6e6 25. g2g3 h7h5 26. h2h4 b7b5 27. f3f4 b3d5 28. d3e2 g8f7 29. e2h5 f8h8 30. c1d1 d5b3 31. h5f3 b3d1 32. e1d1 h8d8 33. d1d5 f7g8 34. d5f5 e6e3 35. f3d5 d8d5 36. f5d5 e7e4 37. d5d1 e3e2 38. d1e1 g6f4 39. e1e2 f4e2 40. g1h2 e2d4 41. f2f4 e4f4 42. g3f4 d4c6 43. h2g3 b5b4 44. c3d2 a6a5 45. g3f3 c5c4 46. f3e4 1/2-1/2'"
      ]
     },
     "execution_count": 17,
     "metadata": {},
     "output_type": "execute_result"
    }
   ],
   "source": [
    "games[0]"
   ]
  },
  {
   "cell_type": "code",
   "execution_count": null,
   "metadata": {},
   "outputs": [],
   "source": []
  }
 ],
 "metadata": {
  "kernelspec": {
   "display_name": "Python 3",
   "language": "python",
   "name": "python3"
  },
  "language_info": {
   "codemirror_mode": {
    "name": "ipython",
    "version": 3
   },
   "file_extension": ".py",
   "mimetype": "text/x-python",
   "name": "python",
   "nbconvert_exporter": "python",
   "pygments_lexer": "ipython3",
   "version": "3.10.11"
  }
 },
 "nbformat": 4,
 "nbformat_minor": 2
}
