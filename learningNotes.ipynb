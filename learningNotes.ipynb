{
 "cells": [
  {
   "cell_type": "code",
   "execution_count": 3,
   "metadata": {},
   "outputs": [],
   "source": [
    "\n",
    "import jax\n",
    "import jax.numpy as jnp\n",
    "import flax\n",
    "import tokenizer\n",
    "\n",
    "# from tokenizer import tokenizeLine\n",
    "# tokenizer.tokenize()\n",
    "\n",
    "vocab = tokenizer.makeVocabUCI()\n",
    "games = open('data/ELO_2000_UCI.txt', 'r').read()\n",
    "games = games.splitlines()\n",
    "\n",
    "tokenizedGames = []\n",
    "\n",
    "for g in games:\n",
    "    arr = []\n",
    "    for e in g.split(' '):\n",
    "        arr.append(vocab[e])\n",
    "    tokenizedGames.append(arr)"
   ]
  },
  {
   "cell_type": "code",
   "execution_count": null,
   "metadata": {},
   "outputs": [],
   "source": [
    "import jax\n",
    "import jax.numpy as jnp\n",
    "import flax.linen as nn\n",
    "\n",
    "# nn.\n",
    "jax.nn.conv2d()\n",
    "# nn.co"
   ]
  }
 ],
 "metadata": {
  "kernelspec": {
   "display_name": "Python 3",
   "language": "python",
   "name": "python3"
  },
  "language_info": {
   "codemirror_mode": {
    "name": "ipython",
    "version": 3
   },
   "file_extension": ".py",
   "mimetype": "text/x-python",
   "name": "python",
   "nbconvert_exporter": "python",
   "pygments_lexer": "ipython3",
   "version": "3.10.11"
  }
 },
 "nbformat": 4,
 "nbformat_minor": 2
}
