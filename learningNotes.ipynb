{
 "cells": [
  {
   "cell_type": "code",
   "execution_count": 3,
   "metadata": {},
   "outputs": [],
   "source": [
    "\n",
    "import jax\n",
    "import jax.numpy as jnp\n",
    "import flax\n",
    "import tokenizer\n",
    "\n",
    "# from tokenizer import tokenizeLine\n",
    "# tokenizer.tokenize()\n",
    "\n",
    "vocab = tokenizer.makeVocabUCI()\n",
    "games = open('data/ELO_2000_UCI.txt', 'r').read()\n",
    "games = games.splitlines()\n",
    "\n",
    "tokenizedGames = []\n",
    "\n",
    "for g in games:\n",
    "    arr = []\n",
    "    for e in g.split(' '):\n",
    "        arr.append(vocab[e])\n",
    "    tokenizedGames.append(arr)"
   ]
  },
  {
   "cell_type": "code",
   "execution_count": 41,
   "metadata": {},
   "outputs": [
    {
     "name": "stdout",
     "output_type": "stream",
     "text": [
      "5 with split at 3\n",
      "<class 'jaxlib.xla_extension.ArrayImpl'> <class 'jaxlib.xla_extension.ArrayImpl'>\n",
      "[1 3 3 0 0 0 0 0 0 0 0 0 0 0 0 0 0]\n",
      "[1 3 3 3 0 0 0 0 0 0 0 0 0 0 0 0 0]\n",
      "---------------------\n",
      "5 with split at 2\n",
      "<class 'jaxlib.xla_extension.ArrayImpl'> <class 'jaxlib.xla_extension.ArrayImpl'>\n",
      "[1 3 0 0 0 0 0 0 0 0 0 0 0 0 0 0 0]\n",
      "[1 3 3 0 0 0 0 0 0 0 0 0 0 0 0 0 0]\n",
      "---------------------\n",
      "5 with split at 3\n",
      "<class 'jaxlib.xla_extension.ArrayImpl'> <class 'jaxlib.xla_extension.ArrayImpl'>\n",
      "[1 3 3 0 0 0 0 0 0 0 0 0 0 0 0 0 0]\n",
      "[1 3 3 3 0 0 0 0 0 0 0 0 0 0 0 0 0]\n",
      "---------------------\n"
     ]
    }
   ],
   "source": [
    "import jax\n",
    "import jax.numpy as jnp\n",
    "import flax.linen as nn\n",
    "randKEY = jax.random.PRNGKey(seed=123)\n",
    "\n",
    "test = jnp.array([1,3,3,3,2,0,4,5,0,7,8,9,10,11,12,13,14])\n",
    "\n",
    "def splitGame(x:jnp.array, padToken):\n",
    "    global randKEY\n",
    "    ind = jnp.where(x == padToken)[0][0]\n",
    "    \n",
    "    randKEY, k = jax.random.split(randKEY)\n",
    "    idx = jax.random.randint(k, (1,), 2, ind)[0]\n",
    "    print(ind, 'with split at', idx)\n",
    "    maskY = jnp.where(jnp.arange(x.shape[0]) <= idx, 1, 0)\n",
    "    # print(maskY)\n",
    "    maskX = jnp.where(jnp.arange(x.shape[0]) < idx, 1, 0)\n",
    "    # print(maskX)\n",
    "\n",
    "    # print(ind)\n",
    "    # print(x[ind])\n",
    "    # print(x)\n",
    "    # print(mask)\n",
    "    return x*maskX, x*maskY\n",
    "for i in range(3):\n",
    "    d, t = splitGame(test, 0)\n",
    "    print(type(d), type(t))\n",
    "    print(d)\n",
    "    print(t)\n",
    "    print('---------------------')\n"
   ]
  },
  {
   "cell_type": "code",
   "execution_count": null,
   "metadata": {},
   "outputs": [],
   "source": []
  },
  {
   "cell_type": "code",
   "execution_count": null,
   "metadata": {},
   "outputs": [],
   "source": []
  }
 ],
 "metadata": {
  "kernelspec": {
   "display_name": "Python 3",
   "language": "python",
   "name": "python3"
  },
  "language_info": {
   "codemirror_mode": {
    "name": "ipython",
    "version": 3
   },
   "file_extension": ".py",
   "mimetype": "text/x-python",
   "name": "python",
   "nbconvert_exporter": "python",
   "pygments_lexer": "ipython3",
   "version": "3.10.11"
  }
 },
 "nbformat": 4,
 "nbformat_minor": 2
}
